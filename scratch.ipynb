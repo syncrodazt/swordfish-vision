{
 "cells": [
  {
   "cell_type": "code",
   "execution_count": 3,
   "metadata": {},
   "outputs": [
    {
     "name": "stdout",
     "output_type": "stream",
     "text": [
      "xyz XYZ\n",
      "xyzXYZ\n"
     ]
    }
   ],
   "source": [
    "a = \"xyz\"\n",
    "print(f\"{a} XYZ\")\n",
    "print(f\"{a + 'XYZ'}\")"
   ]
  }
 ],
 "metadata": {
  "kernelspec": {
   "display_name": "open-mmlab",
   "language": "python",
   "name": "python3"
  },
  "language_info": {
   "codemirror_mode": {
    "name": "ipython",
    "version": 3
   },
   "file_extension": ".py",
   "mimetype": "text/x-python",
   "name": "python",
   "nbconvert_exporter": "python",
   "pygments_lexer": "ipython3",
   "version": "3.8.13"
  },
  "orig_nbformat": 4,
  "vscode": {
   "interpreter": {
    "hash": "b3eb626b262471a19b9d232b223e8611e189753c08a81fa3fda1c80f0958f197"
   }
  }
 },
 "nbformat": 4,
 "nbformat_minor": 2
}
